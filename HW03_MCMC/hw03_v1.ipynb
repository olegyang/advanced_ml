{
 "cells": [
  {
   "cell_type": "code",
   "execution_count": 1,
   "metadata": {
    "collapsed": true
   },
   "outputs": [],
   "source": [
    "import numpy as np\n",
    "import random\n",
    "from collections import Counter"
   ]
  },
  {
   "cell_type": "code",
   "execution_count": 2,
   "outputs": [],
   "source": [
    "ANNA_PATH = 'corpora/AnnaKarenina.txt'\n",
    "WNP_ENG_PATH = 'corpora/WarAndPeaceEng.txt'\n",
    "WNP_PATH = 'corpora/WarAndPeace.txt'\n",
    "\n",
    "ALPHABET = 'абвгдеёжзийклмнопрстуфхцчшщъыьэюя '"
   ],
   "metadata": {
    "collapsed": false,
    "pycharm": {
     "name": "#%%\n"
    }
   }
  },
  {
   "cell_type": "markdown",
   "source": [
    "#### 1.Реализуйте базовый частотный метод по Шерлоку Холмсу:\n",
    "#### - подсчитайте частоты букв по корпусам (пунктуацию и капитализацию можно просто опустить, а вот пробелы лучше оставить);\n",
    "#### - возьмите какие-нибудь тестовые тексты (нужно взять по меньшей мере 2-3 предложения, иначе вряд ли сработает), зашифруйте их посредством случайной перестановки символов;\n",
    "#### - расшифруйте их таким частотным методом.\n"
   ],
   "metadata": {
    "collapsed": false,
    "pycharm": {
     "name": "#%% md\n"
    }
   }
  },
  {
   "cell_type": "code",
   "execution_count": 3,
   "outputs": [
    {
     "name": "stdout",
     "output_type": "stream",
     "text": [
      " Anna len = 1813200, WNP len = 717873, WNP_ENG len = 3226615\n"
     ]
    }
   ],
   "source": [
    "# Файл \"Анна Каренина\" имеет больше символов, поэтому используем его в качестве обучающего\n",
    "with open(ANNA_PATH, 'r', encoding='utf-8') as f:\n",
    "    anna = f.read()\n",
    "\n",
    "with open(WNP_PATH, 'r', encoding='utf-8') as f:\n",
    "    wnp = f.read()\n",
    "\n",
    "with open(WNP_ENG_PATH, 'r', encoding='utf-8') as f:\n",
    "    wnp_eng = f.read()\n",
    "\n",
    "print(f' Anna len = {len(anna)}, WNP len = {len(wnp)}, WNP_ENG len = {len(wnp_eng)}')"
   ],
   "metadata": {
    "collapsed": false,
    "pycharm": {
     "name": "#%%\n"
    }
   }
  },
  {
   "cell_type": "markdown",
   "source": [
    "Возьмем \"Анну Каренину\" в качестве тренировочного тектса, тк там банально больше статистики."
   ],
   "metadata": {
    "collapsed": false,
    "pycharm": {
     "name": "#%% md\n"
    }
   }
  },
  {
   "cell_type": "code",
   "execution_count": 6,
   "outputs": [
    {
     "name": "stdout",
     "output_type": "stream",
     "text": [
      "Тестовый текст:\"анна михайловна  сказал он с своею всегдашнею фамильярностью и скукой в голосе  для меня почти невозможно сделать то что вы хотите но чтобы доказать вам как я люблю вас и чту память покойного отца вашего я сделаю невозможное сын ваш будет переведен в гвардию вот вам моя рука довольны вы\"\n"
     ]
    }
   ],
   "source": [
    "train_text = anna.lower()\n",
    "test_text = wnp.lower()\n",
    "\n",
    "# Возьмем несколько предложений для кодирования\n",
    "start, end = 34804, 35103\n",
    "test_text = \"\".join([i for i in test_text[start:end] if i in ALPHABET])\n",
    "print(f'Тестовый текст:\"{test_text}\"')"
   ],
   "metadata": {
    "collapsed": false,
    "pycharm": {
     "name": "#%%\n"
    }
   }
  },
  {
   "cell_type": "code",
   "execution_count": 7,
   "outputs": [
    {
     "name": "stdout",
     "output_type": "stream",
     "text": [
      "Зашифрованный тестовый текст: \"ьяяьхз жьцъыйяьххищьльъхыяхихийывухйивапьоявухдьз ъркфяыиерух хищбщыцхйхаыъыивххпъкхзвякхшыче хявйылзыюяыхипвъьерхеыхчеыхйгхжые евхяыхчеытгхпыщьльерхйьзхщьщхкхъутъухйьих хчебхшьзкерхшыщыцяыаыхыесьхйьоваыхкхипвъьухявйылзыюяывхигяхйьохтбпвехшвфвйвпвяхйхайьфп ухйыехйьзхзыкхфбщьхпыйыърягхйг\", \n",
      "Длина текста = 287\n"
     ]
    }
   ],
   "source": [
    "# Случайным образом переставим буквы в тексте.\n",
    "\n",
    "def encode(text):\n",
    "    cur_text_alphabet = ''.join(set(text))\n",
    "    сypher = ''.join(random.sample(ALPHABET, len(cur_text_alphabet)))\n",
    "    encoded_text = text.lower().translate(str.maketrans(cur_text_alphabet, сypher))\n",
    "    return ''.join([char for char in encoded_text if char in сypher])\n",
    "\n",
    "\n",
    "encoded_test_text = encode(test_text)\n",
    "print(f'Зашифрованный тестовый текст: \"{encoded_test_text}\", \\nДлина текста = {len(encoded_test_text)}')"
   ],
   "metadata": {
    "collapsed": false,
    "pycharm": {
     "name": "#%%\n"
    }
   }
  },
  {
   "cell_type": "code",
   "execution_count": 8,
   "outputs": [],
   "source": [
    "# Также зададим функцию для подсчета посимвольной точности перевода\n",
    "def decoding_accuracy(true_test, pred_text):\n",
    "    accuracy = 0\n",
    "    for i, j in zip(true_test, pred_text):\n",
    "        if i == j:\n",
    "            accuracy += 1\n",
    "    return accuracy / len(true_test)"
   ],
   "metadata": {
    "collapsed": false,
    "pycharm": {
     "name": "#%%\n"
    }
   }
  },
  {
   "cell_type": "code",
   "execution_count": 9,
   "outputs": [],
   "source": [
    "# Частотный декодер\n",
    "class FreqDecoder:\n",
    "\n",
    "    def __init__(self, n_gram_len):\n",
    "        self.n_gram_len = n_gram_len\n",
    "\n",
    "    def fit(self, train_text):\n",
    "        train_text = ''.join([char for char in train_text if char in ALPHABET])\n",
    "        splitted_text = [train_text[i:i + self.n_gram_len] for i in range(len(train_text) - self.n_gram_len + 1)]\n",
    "        # Подсчитываем кол-во встречаемости n-граммы в тренировочном тексте\n",
    "        self.frequency = Counter(splitted_text)\n",
    "        #Сортируем по убыванию\n",
    "        sorted_idx = np.argsort(list(self.frequency.values()))[::-1]\n",
    "        self.frequency_sorted = np.array(list(self.frequency.keys()))[sorted_idx]\n",
    "\n",
    "    def decode(self, text):\n",
    "        #Повторяем аналогично обучению, но для зашифрованного текста\n",
    "        original_len = len(text)\n",
    "        splitted_text = [text[i:i + self.n_gram_len] for i in\n",
    "                         range(0, len(text) - self.n_gram_len + 1, self.n_gram_len)]\n",
    "        encoded_frequency = Counter(splitted_text)\n",
    "        sorted_idx = np.argsort(list(encoded_frequency.values()))[::-1]\n",
    "        encoded_frequency_sorted = np.array(list(encoded_frequency.keys()))[sorted_idx]\n",
    "        decoder_size = min(len(encoded_frequency_sorted), len(self.frequency_sorted))\n",
    "        # Задаем словарь перевода частот\n",
    "        decoder = {}\n",
    "        for i in range(decoder_size):\n",
    "            decoder[encoded_frequency_sorted[i]] = self.frequency_sorted[i]\n",
    "        # Декодируем текст\n",
    "        decoded_text = ''.join([decoder[n_gram] for n_gram in splitted_text])[:original_len]\n",
    "        return decoded_text"
   ],
   "metadata": {
    "collapsed": false,
    "pycharm": {
     "name": "#%%\n"
    }
   }
  },
  {
   "cell_type": "code",
   "execution_count": 10,
   "outputs": [],
   "source": [
    "decoder_unigram = FreqDecoder(n_gram_len=1)\n",
    "decoder_unigram.fit(train_text)"
   ],
   "metadata": {
    "collapsed": false,
    "pycharm": {
     "name": "#%%\n"
    }
   }
  },
  {
   "cell_type": "code",
   "execution_count": 11,
   "outputs": [
    {
     "name": "stdout",
     "output_type": "stream",
     "text": [
      "Настоящий текст: \n",
      "анна михайловна  сказал он с своею всегдашнею фамильярностью и скукой в голосе  для меня почти невозможно сделать то что вы хотите но чтобы доказать вам как я люблю вас и чту память покойного отца вашего я сделаю невозможное сын ваш будет переведен в гвардию вот вам моя рука довольны вы\n",
      "Декодированный текст: \n",
      "еиие рдхешлоаие  скеыел ои с саонм аснявейинм эердлпугиостпм д скбкош а яолосн  влу рниу чозтд инаоыроюио свнлетп то зто аь хотдтн ио зтожь вокеыетп аер кек у лмжлм аес д зтб черутп чокошиояо отще аейняо у свнлем инаоыроюион сьи аей жбвнт чнгнанвни а яаегвдм аот аер роу гбке воаолпиь аь\n",
      "\n",
      "Точность частотного декодирования униграмми:  0.43902439024390244\n"
     ]
    }
   ],
   "source": [
    "# Декодируем закодированный текст униграммным частотным декодером\n",
    "decoded_text = decoder_unigram.decode(encoded_test_text)\n",
    "print(f'Настоящий текст: ')\n",
    "print(test_text)\n",
    "print('Декодированный текст: ')\n",
    "print(decoded_text)\n",
    "\n",
    "print('\\nТочность частотного декодирования униграмми: ', decoding_accuracy(test_text, decoded_text))"
   ],
   "metadata": {
    "collapsed": false,
    "pycharm": {
     "name": "#%%\n"
    }
   }
  },
  {
   "cell_type": "markdown",
   "source": [
    "#### 2.Вряд ли в результате получилась такая уж хорошая расшифровка, разве что если вы брали в качестве тестовых данных целые рассказы. Но и Шерлок Холмс был не так уж прост: после буквы E, которая действительно выделяется частотой, дальше он анализировал уже конкретные слова и пытался угадать, какими они могли бы быть. Я не знаю, как запрограммировать такой интуитивный анализ, так что давайте просто сделаем следующий логический шаг:\n",
    "#### - подсчитайте частоты биграмм (т.е. пар последовательных букв) по корпусам;\n",
    "#### - проведите тестирование аналогично п.1, но при помощи биграмм."
   ],
   "metadata": {
    "collapsed": false,
    "pycharm": {
     "name": "#%% md\n"
    }
   }
  },
  {
   "cell_type": "code",
   "execution_count": 12,
   "outputs": [],
   "source": [
    "decoder_bigram = FreqDecoder(n_gram_len=2)\n",
    "decoder_bigram.fit(train_text)"
   ],
   "metadata": {
    "collapsed": false,
    "pycharm": {
     "name": "#%%\n"
    }
   }
  },
  {
   "cell_type": "code",
   "execution_count": 13,
   "outputs": [
    {
     "name": "stdout",
     "output_type": "stream",
     "text": [
      "Настоящий текст: \n",
      "анна михайловна  сказал он с своею всегдашнею фамильярностью и скукой в голосе  для меня почти невозможно сделать то что вы хотите но чтобы доказать вам как я люблю вас и чту память покойного отца вашего я сделаю невозможное сын ваш будет переведен в гвардию вот вам моя рука довольны вы\n",
      "Декодированный текст: \n",
      "льотни браовм л е лакаво че е ентьо коол норрей прнелилен в пое ва о меллоовкоосроалу заи ерон с вго к та носты ь  пна по  иазонбы са ин у ия лака зо тожеемес ртиито допонаеги тоась ат оакода  ддао  нтеа алността с вго к т  е омо  нанк оги ск ветдео илрисечто  до тонит вевил я енне ео \n",
      "\n",
      " Точность частотного декодирования биграммами:  0.09407665505226481\n"
     ]
    }
   ],
   "source": [
    "# Декодируем закодированный текст биграммным частотным декодером\n",
    "decoded_text = decoder_bigram.decode(encoded_test_text)\n",
    "\n",
    "print(f'Настоящий текст: ')\n",
    "print(test_text)\n",
    "print('Декодированный текст: ')\n",
    "print(decoded_text)\n",
    "\n",
    "print('\\n Точность частотного декодирования биграммами: ', decoding_accuracy(test_text, decoded_text))"
   ],
   "metadata": {
    "collapsed": false,
    "pycharm": {
     "name": "#%%\n"
    }
   }
  },
  {
   "cell_type": "markdown",
   "source": [
    "Точность такого декодирования оказалась сильно ниже, чем при униграммном подходе. Но кажется что точность может быть лучше на бОльшем объеме тестового текста. Проверим:"
   ],
   "metadata": {
    "collapsed": false,
    "pycharm": {
     "name": "#%% md\n"
    }
   }
  },
  {
   "cell_type": "code",
   "execution_count": null,
   "outputs": [],
   "source": [],
   "metadata": {
    "collapsed": false,
    "pycharm": {
     "name": "#%%\n"
    }
   }
  },
  {
   "cell_type": "code",
   "execution_count": null,
   "outputs": [],
   "source": [],
   "metadata": {
    "collapsed": false,
    "pycharm": {
     "name": "#%%\n"
    }
   }
  },
  {
   "cell_type": "code",
   "execution_count": 27,
   "outputs": [
    {
     "name": "stdout",
     "output_type": "stream",
     "text": [
      "\n",
      " Точность частотного декодирования биграммами, на всем произведении:  0.05404159231507523\n",
      "\n",
      " Точность частотного декодирования униграммами, на всем произведении:  0.05469073220472145\n"
     ]
    }
   ],
   "source": [
    "encoded_test_big_text = encode(''.join([i for i in wnp.lower() if i in ALPHABET]))\n",
    "decoded_text = decoder_bigram.decode(encoded_test_big_text)\n",
    "print('\\n Точность частотного декодирования биграммами, на всем произведении: ', decoding_accuracy(wnp.lower(), decoded_text))\n",
    "decoded_text = decoder_unigram.decode(encoded_test_big_text)\n",
    "print('\\n Точность частотного декодирования униграммами, на всем произведении: ', decoding_accuracy(wnp.lower(), decoded_text))"
   ],
   "metadata": {
    "collapsed": false,
    "pycharm": {
     "name": "#%%\n"
    }
   }
  },
  {
   "cell_type": "markdown",
   "source": [
    "Действительно, при таком подходе - точность оценки методом на биграммах на сопоставимом уровне с униграммным методом."
   ],
   "metadata": {
    "collapsed": false,
    "pycharm": {
     "name": "#%% md\n"
    }
   }
  },
  {
   "cell_type": "markdown",
   "source": [
    "#### Но и это ещё не всё: биграммы скорее всего тоже далеко не всегда работают. Основная часть задания — в том, как можно их улучшить:\n",
    "#### - предложите метод обучения перестановки символов в этом задании, основанный на MCMC-сэмплировании, но по-прежнему работающий на основе статистики биграмм;\n",
    "#### - реализуйте и протестируйте его, убедитесь, что результаты улучшились.\n"
   ],
   "metadata": {
    "collapsed": false,
    "pycharm": {
     "name": "#%% md\n"
    }
   }
  },
  {
   "cell_type": "code",
   "execution_count": 28,
   "outputs": [],
   "source": [
    "class MCMCDecoder:\n",
    "    def __init__(self):\n",
    "        self.alphabet = list(ALPHABET)\n",
    "        self.alphabet_len = len(self.alphabet)\n",
    "        self.char_index = dict(zip(self.alphabet, range(self.alphabet_len)))\n",
    "\n",
    "    def fit(self, text):\n",
    "        text = ''.join([char for char in text.lower() if char in self.alphabet])\n",
    "        # построим квадратную матрицу где столбцы и строки - символы алфавита.\n",
    "        proposition_map = np.zeros((self.alphabet_len, self.alphabet_len))\n",
    "        for text_idx in range(1, len(text)):\n",
    "            cur_idx = self.char_index[text[text_idx - 1]]\n",
    "            cur_idx_next = self.char_index[text[text_idx]]\n",
    "            proposition_map[cur_idx, cur_idx_next] += 1\n",
    "        proposition_map = np.clip(proposition_map, a_min=1, a_max=None)\n",
    "        self.proposition_map = proposition_map / proposition_map.sum(axis=1)[:, np.newaxis]\n",
    "        self.log_prop_map = np.log(self.proposition_map)\n",
    "\n",
    "    def swap(self, tokens, idx1, idx2):\n",
    "        tokens[idx1], tokens[idx2] = tokens[idx2], tokens[idx1]\n",
    "        return tokens\n",
    "\n",
    "    def decoder(self, text, tokens):\n",
    "        decoder_dict = dict(zip(tokens, self.alphabet))\n",
    "        return ''.join(map(lambda x: decoder_dict[x], text))\n",
    "\n",
    "    def log_text_score(self, text, shuffled_tokens):\n",
    "        text = ''.join([char for char in text.lower() if char in self.alphabet])\n",
    "        text = self.decoder(text, shuffled_tokens)\n",
    "        log_score = 0\n",
    "        for text_idx in range(1, len(text)):\n",
    "            cur_idx = self.char_index[text[text_idx - 1]]\n",
    "            cur_idx_next = self.char_index[text[text_idx]]\n",
    "            log_score += self.log_prop_map[cur_idx, cur_idx_next]\n",
    "        return log_score\n",
    "\n",
    "    def random_index(self, max_val):\n",
    "        idx1 = 0\n",
    "        idx2 = 0\n",
    "        while idx1 == idx2:\n",
    "            idx1 = random.randint(0, max_val)\n",
    "            idx2 = random.randint(0, max_val)\n",
    "        return idx1, idx2\n",
    "\n",
    "    def decode(self, text, n_iters):\n",
    "        text = ''.join([char for char in text.lower() if char in self.alphabet])\n",
    "        shuffled_tokens = self.alphabet.copy()\n",
    "        random.shuffle(shuffled_tokens)\n",
    "        self.decoded_tokens = shuffled_tokens.copy()\n",
    "        max_log_score = log_score = self.log_text_score(text, shuffled_tokens)\n",
    "        for i in range(n_iters):\n",
    "            idx1, idx2 = self.random_index(self.alphabet_len - 1)\n",
    "            shuffled_tokens = self.swap(shuffled_tokens, idx1, idx2)\n",
    "            new_log_score = self.log_text_score(text, shuffled_tokens)\n",
    "            # Выбираем следующий токен по алгоритму Метрополиса-Гастингса\n",
    "            if new_log_score <= log_score:\n",
    "                if np.log(random.uniform(0, 1)) > new_log_score - log_score:\n",
    "                    shuffled_tokens = self.swap(shuffled_tokens, idx1, idx2)\n",
    "                else:\n",
    "                    log_score = new_log_score\n",
    "            else:\n",
    "                log_score = new_log_score\n",
    "                if new_log_score > max_log_score:\n",
    "                    max_log_score = new_log_score\n",
    "                    self.decoded_tokens = shuffled_tokens.copy()\n",
    "        return self.decoder(text, self.decoded_tokens)"
   ],
   "metadata": {
    "collapsed": false,
    "pycharm": {
     "name": "#%%\n"
    }
   }
  },
  {
   "cell_type": "code",
   "execution_count": 15,
   "outputs": [],
   "source": [
    "# Создаем МСМС декодер и обучаем его\n",
    "mcmc_decoder = MCMCDecoder()\n",
    "mcmc_decoder.fit(train_text)"
   ],
   "metadata": {
    "collapsed": false,
    "pycharm": {
     "name": "#%%\n"
    }
   }
  },
  {
   "cell_type": "code",
   "execution_count": 21,
   "outputs": [
    {
     "name": "stdout",
     "output_type": "stream",
     "text": [
      "Количество итераций 0, точность расшифровки - 0.11846689895470383\n",
      "Количество итераций 10000, точность расшифровки - 0.26480836236933797\n",
      "Количество итераций 20000, точность расшифровки - 0.0627177700348432\n",
      "Количество итераций 30000, точность расшифровки - 0.8432055749128919\n",
      "Количество итераций 40000, точность расшифровки - 0.9372822299651568\n",
      "Количество итераций 50000, точность расшифровки - 0.9372822299651568\n",
      "Количество итераций 60000, точность расшифровки - 0.9372822299651568\n",
      "Количество итераций 70000, точность расшифровки - 0.2264808362369338\n",
      "Количество итераций 80000, точность расшифровки - 0.7909407665505227\n",
      "Количество итераций 90000, точность расшифровки - 0.9372822299651568\n",
      "Настоящий текст: \n",
      "анна михайловна  сказал он с своею всегдашнею фамильярностью и скукой в голосе  для меня почти невозможно сделать то что вы хотите но чтобы доказать вам как я люблю вас и чту память покойного отца вашего я сделаю невозможное сын ваш будет переведен в гвардию вот вам моя рука довольны вы\n",
      "Декодированный текст: \n",
      "анна михайловна  скарал он с своею всегдазнею чамильяжностью и скукой в голосе  для меня поэти невормошно сделать то это вы хотите но этобы докарать вам как я люблю вас и эту память покойного отца вазего я сделаю невормошное сын ваз будет пежеведен в гваждию вот вам моя жука довольны вы\n",
      "Итоговая точность на 40000 итераций - 0.9372822299651568\n"
     ]
    }
   ],
   "source": [
    "# Декодируем текст с помощью МСМС\n",
    "best_iter = 0\n",
    "best_acc = 0\n",
    "best_decoded_text = None\n",
    "\n",
    "for i in range(0, 100000, 10000):\n",
    "    decoded_text = mcmc_decoder.decode(encoded_test_text, n_iters=i)\n",
    "    curr_acc = decoding_accuracy(test_text, decoded_text)\n",
    "    print(f'Количество итераций {i}, точность расшифровки - {decoding_accuracy(test_text, decoded_text)}')\n",
    "    if curr_acc > best_acc:\n",
    "        best_acc = curr_acc\n",
    "        best_iter = i\n",
    "        best_decoded_text = decoded_text\n",
    "\n",
    "\n",
    "print(f'Настоящий текст: ')\n",
    "print(test_text)\n",
    "print('Декодированный текст: ')\n",
    "print(best_decoded_text)\n",
    "print(f'Итоговая точность на {best_iter} итераций - {best_acc}')"
   ],
   "metadata": {
    "collapsed": false,
    "pycharm": {
     "name": "#%%\n"
    }
   }
  },
  {
   "cell_type": "markdown",
   "source": [
    "Итого: качество MCMC декодера - в разы лучше частотного метода.\n",
    "Однако, алгоритм не воспроизводимый, а также желательно подбирать оптимальное количество итераций МГ, на котором в среднем работает неплохо."
   ],
   "metadata": {
    "collapsed": false,
    "pycharm": {
     "name": "#%% md\n"
    }
   }
  },
  {
   "cell_type": "markdown",
   "source": [
    "#### 4.Расшифруйте сообщение:"
   ],
   "metadata": {
    "collapsed": false
   }
  },
  {
   "cell_type": "code",
   "execution_count": 22,
   "outputs": [
    {
     "name": "stdout",
     "output_type": "stream",
     "text": [
      "Зашифрованное сообщение:\n",
      "←⇠⇒↟↹↷⇊↹↷↟↤↟↨←↹↝⇛⇯↳⇴⇒⇈↝⇊↾↹↟⇒↟↹⇷⇛⇞↨↟↹↝⇛⇯↳⇴⇒⇈↝⇊↾↹↨←⇌⇠↨↹⇙↹⇸↨⇛↙⇛↹⇠⇛⇛↲⇆←↝↟↞↹⇌⇛↨⇛⇯⇊↾↹⇒←↙⇌⇛↹⇷⇯⇛⇞↟↨⇴↨⇈↹⇠⇌⇛⇯←←↹↷⇠←↙⇛↹↷⇊↹↷⇠←↹⇠↤←⇒⇴⇒↟↹⇷⇯⇴↷↟⇒⇈↝⇛↹↟↹⇷⇛⇒⇙⇞↟↨←↹↳⇴⇌⇠↟↳⇴⇒⇈↝⇊↾↹↲⇴⇒⇒↹⇰⇴↹⇷⇛⇠⇒←↤↝←←↹⇞←↨↷←⇯↨⇛←↹⇰⇴↤⇴↝↟←↹⇌⇙⇯⇠⇴↹↘⇛↨↞↹⇌⇛↝←⇞↝⇛↹↞↹↝↟⇞←↙⇛↹↝←↹⇛↲←⇆⇴⇏\n",
      "\n",
      "Зашифрованное сообщение перекодированное случайным образом на кириллицу:\n",
      "э шмцфжцфмнмяэцюлчкбшщюжтцмшмцвлрямцюлчкбшщюжтцяэс яцицдялхлц лльпэюмацслялчжтцшэхслцвчлрмябящц слчээцф эхлцфжцф эц нэшбшмцвчбфмшщюлцмцвлширмяэцкбс мкбшщюжтцьбшшцйбцвл шэнюээцрэяфэчялэцйбнбюмэцсич бцуляацслюэрюлцацюмрэхлцюэцльэпбз\n"
     ]
    }
   ],
   "source": [
    "message = \"←⇠⇒↟↹↷⇊↹↷↟↤↟↨←↹↝⇛⇯↳⇴⇒⇈↝⇊↾↹↟⇒↟↹⇷⇛⇞↨↟↹↝⇛⇯↳⇴⇒⇈↝⇊↾↹↨←⇌⇠↨↹⇙↹⇸↨⇛↙⇛↹⇠⇛⇛↲⇆←↝↟↞↹⇌⇛↨⇛⇯⇊↾↹⇒←↙⇌⇛↹⇷⇯⇛⇞↟↨⇴↨⇈↹⇠⇌⇛⇯←←↹↷⇠←↙⇛↹↷⇊↹↷⇠←↹⇠↤←⇒⇴⇒↟↹⇷⇯⇴↷↟⇒⇈↝⇛↹↟↹⇷⇛⇒⇙⇞↟↨←↹↳⇴⇌⇠↟↳⇴⇒⇈↝⇊↾↹↲⇴⇒⇒↹⇰⇴↹⇷⇛⇠⇒←↤↝←←↹⇞←↨↷←⇯↨⇛←↹⇰⇴↤⇴↝↟←↹⇌⇙⇯⇠⇴↹↘⇛↨↞↹⇌⇛↝←⇞↝⇛↹↞↹↝↟⇞←↙⇛↹↝←↹⇛↲←⇆⇴⇏\"\n",
    "print('Зашифрованное сообщение:')\n",
    "print(message)\n",
    "encoded_message = encode(message)\n",
    "print('\\nЗашифрованное сообщение перекодированное случайным образом на кириллицу:')\n",
    "print(encoded_message)"
   ],
   "metadata": {
    "collapsed": false,
    "pycharm": {
     "name": "#%%\n"
    }
   }
  },
  {
   "cell_type": "markdown",
   "source": [],
   "metadata": {
    "collapsed": false,
    "pycharm": {
     "name": "#%% md\n"
    }
   }
  },
  {
   "cell_type": "code",
   "execution_count": 23,
   "outputs": [
    {
     "name": "stdout",
     "output_type": "stream",
     "text": [
      "Сообщение, декодированное частотным методом: \n",
      "емпоонкоь канигоал кнеосл во впрть вна ч сст нот брам рой  ии  деновлая  оал н ттое о у  мелили е риа сето пчтонт и ведапоо одь ненаако аты аза  кбыин сст н у с зжео деетологваорв н залиреле ея ерскте оное та   пнооман игоа к вило\n"
     ]
    }
   ],
   "source": [
    "# Декодируем текст с помощью частотного метода\n",
    "message_decoded_baseline = decoder_bigram.decode(encoded_message)\n",
    "print('Сообщение, декодированное частотным методом: ')\n",
    "print(message_decoded_baseline)"
   ],
   "metadata": {
    "collapsed": false,
    "pycharm": {
     "name": "#%%\n"
    }
   }
  },
  {
   "cell_type": "code",
   "execution_count": 24,
   "outputs": [],
   "source": [
    "mcmc_decoder = MCMCDecoder()\n",
    "#Используем два корпуса текстов, на всякий случай :)\n",
    "mcmc_decoder.fit(train_text + wnp.lower())"
   ],
   "metadata": {
    "collapsed": false,
    "pycharm": {
     "name": "#%%\n"
    }
   }
  },
  {
   "cell_type": "code",
   "execution_count": 25,
   "outputs": [
    {
     "name": "stdout",
     "output_type": "stream",
     "text": [
      "Итерация 0: \n",
      " фбяйплгплйсймфпъныжаяюъг пйяйпонтмйпъныжаяюъг пмфибмпдпрмнэнпбннзшфъйёпинмныг пяфэинпоынтймамюпбиныффплбфэнплгплбфпбсфяаяйпоыалйяюънпйпонядтймфпжаибйжаяюъг пзаяяпхапонбяфсъффптфмлфымнфпхасаъйфпидыбапкнмёпинъфтънпёпъйтфэнпъфпнзфшав \n",
      "\n",
      "Итерация 10000: \n",
      " ндим сл смьмен оваприхолю мим квтем оваприхолю енуде ч жевыв дввзгномя увевалю иныув кавтмерех дуванн сдныв сл сдн дьнирим карсмихов м квичтмен прудмприхолю зрии бр квдиньонн тнеснаевн брьромн учадр цвея увонтов я омтныв он взнгрш \n",
      "\n",
      "Итерация 20000: \n",
      " ивна ду дазали мергонымую ана песла мергонымую литвл к элече веебцимая телерую ничте пресалолы втерии двиче ду дви взинона проданыме а пенксали готвагонымую бонн хо певнизмии силдирлеи хозомаи ткрво желя темисме я масиче ми ебицой \n",
      "\n",
      "Итерация 30000: \n",
      "  датнялняткто ниевырамильнтатнцесотниевырамильно удонзнгоепендееюб итчнуеоевльна пуенцвесторомндуев  няд пенялняд ндк аратнцврятамиентнцеазсто нырудтырамильнюраанфрнцеда ки  нс оя вое нфркрит нузвдрнщеочнуеи сиенчнитс пени нею брж \n",
      "\n",
      "Итерация 40000: \n",
      " если вы вимите нордальный или почти нордальный текст у этого сообщения который легко прочитать скорее всего вы все смелали правильно и получите даксидальный балл за послемнее четвертое замание курса хотя конечно я ничего не обещаж \n",
      "\n",
      "Итерация 50000: \n",
      " евли сь сишине торкалытью или почни торкалытью недвн у жного вообщетия донорью легдо прочинаны вдорее свего сь све вшелали прасилыто и получине кадвикалытью балл за повлештее ченсерное зашатие дурва хоня дотечто я тичего те обещам \n",
      "\n",
      "Итерация 60000: \n",
      " свертуютурпрасто нылегоючтрерть карто нылегоючтасиватдтца м тв  бясорэти а нючтесми тьн кралагтви нсстувсм туютувствпселертьнлурего трть едкрастыливрылегоючтблеетфлть веспосстксаусна стфлплорстиднвлтх аэти оско тэторксм тост бсялж \n",
      "\n",
      "Итерация 70000: \n",
      " сдноегуегоковсел изанылужеоноем твоел изанылужевсядвечецв ь ед  бхслошея в иуженсья еми товавыедя иссегдсь егуегдседкснаноемиагоныл еоем нчтовсезаядозанылужебаннераем днсклссетсвгсив серакалосеячидаей вшея лстл ешелотсь елсе бсхаю \n",
      "\n",
      "Итерация 80000: \n",
      "  нисемыемсаст елодувиялышесисегоктселодувиялышет рнтежейтопоенооюб лсчеротодышеи проегдокствтяенрод  емн поемыемн ена ивисегдвмсиялоесегоижкст еуврнсувиялышеювииезвегони ал  ек тм дто езвавлс ержднвехотчерол клоечелск поел еою бвь \n",
      "\n",
      "Итерация 90000: \n",
      "  кнесьбсьерел смазгонимбысенесвадлесмазгонимбысл тклсусшлачаскааях меюсталазбысн чтасвзаделолисктаз  ськ часьбськ скр нонесвзоьенимасесванудел сготкегонимбысяоннспосвакн рм  сд ль зла спороме стузкосцалюстам дмасюсмед часм сая хой \n",
      "\n"
     ]
    }
   ],
   "source": [
    "for i in range(0, 100000, 10000):\n",
    "    decoded_message = mcmc_decoder.decode(encoded_message, n_iters=i)\n",
    "    print(f'Итерация {i}: \\n {decoded_message} \\n')"
   ],
   "metadata": {
    "collapsed": false,
    "pycharm": {
     "name": "#%%\n"
    }
   }
  },
  {
   "cell_type": "markdown",
   "source": [
    "Лучшая попытка расшифровки на 40000 итераций:\n",
    "\"если вы вимите нордальный или почти нордальный текст у этого сообщения который легко прочитать скорее всего вы все смелали правильно и получите даксидальный балл за послемнее четвертое замание курса хотя конечно я ничего не обещаж\"\n",
    "\n",
    "Мое предположение по \"дошифровке\":\n",
    "\"если вы видите нормальный или почти нормальный текст у этого сообщения который легко прочитать скорее всего вы все сделали правильно и получите максидальный балл за послелнее четвертое задание курса хотя конечно я ничего не обещаю\"\n",
    "\n",
    "Достаточно двух перестановок, чтобы дошифровать:\n",
    "д <-> м\n",
    "ж <-> ю"
   ],
   "metadata": {
    "collapsed": false,
    "pycharm": {
     "name": "#%% md\n"
    }
   }
  },
  {
   "cell_type": "code",
   "execution_count": null,
   "outputs": [],
   "source": [],
   "metadata": {
    "collapsed": false,
    "pycharm": {
     "name": "#%%\n"
    }
   }
  }
 ],
 "metadata": {
  "kernelspec": {
   "display_name": "Python 3",
   "language": "python",
   "name": "python3"
  },
  "language_info": {
   "codemirror_mode": {
    "name": "ipython",
    "version": 2
   },
   "file_extension": ".py",
   "mimetype": "text/x-python",
   "name": "python",
   "nbconvert_exporter": "python",
   "pygments_lexer": "ipython2",
   "version": "2.7.6"
  }
 },
 "nbformat": 4,
 "nbformat_minor": 0
}
{
 "cells": [
  {
   "cell_type": "markdown",
   "metadata": {
    "collapsed": true,
    "pycharm": {
     "name": "#%% md\n"
    }
   },
   "source": [
    "Прочитайте и проанализируйте данные, выберите турниры, в которых есть данные о составах команд и повопросных результатах (поле mask в results.pkl). Для унификации предлагаю:\n",
    "- взять в тренировочный набор турниры с dateStart из 2019 года;\n",
    "- в тестовый — турниры с dateStart из 2020 года."
   ]
  },
  {
   "cell_type": "markdown",
   "source": [
    "#### Читаем данные"
   ],
   "metadata": {
    "collapsed": false,
    "pycharm": {
     "name": "#%% md\n"
    }
   }
  },
  {
   "cell_type": "code",
   "execution_count": 1,
   "outputs": [],
   "source": [
    "import pickle\n",
    "import pandas as pd\n",
    "import numpy as np\n",
    "from tqdm import tqdm\n",
    "\n",
    "import scipy.sparse as sparse\n",
    "import scipy.stats as stats\n",
    "from sklearn.linear_model import LogisticRegression\n",
    "from sklearn.preprocessing import OneHotEncoder\n"
   ],
   "metadata": {
    "collapsed": false,
    "pycharm": {
     "name": "#%%\n"
    }
   }
  },
  {
   "cell_type": "code",
   "execution_count": 2,
   "outputs": [],
   "source": [
    "players = pickle.load(open('chgk/players.pkl', 'rb'))\n",
    "results = pickle.load(open('chgk/results.pkl', 'rb'))\n",
    "tournaments = pickle.load(open('chgk/tournaments.pkl', 'rb'))"
   ],
   "metadata": {
    "collapsed": false,
    "pycharm": {
     "name": "#%%\n"
    }
   }
  },
  {
   "cell_type": "code",
   "execution_count": 3,
   "outputs": [
    {
     "name": "stdout",
     "output_type": "stream",
     "text": [
      "Общее число игроков: 204063\n",
      "Общее число турниров: 5528\n",
      "Размер словаря результатов: 5528\n"
     ]
    }
   ],
   "source": [
    "print('Общее число игроков:', len(players))\n",
    "print('Общее число турниров:', len(tournaments))\n",
    "print('Размер словаря результатов:', len(results))"
   ],
   "metadata": {
    "collapsed": false,
    "pycharm": {
     "name": "#%%\n"
    }
   }
  },
  {
   "cell_type": "markdown",
   "source": [
    "#### Обработка данных"
   ],
   "metadata": {
    "collapsed": false,
    "pycharm": {
     "name": "#%% md\n"
    }
   }
  },
  {
   "cell_type": "code",
   "execution_count": 4,
   "outputs": [
    {
     "name": "stderr",
     "output_type": "stream",
     "text": [
      "100%|██████████| 5528/5528 [00:01<00:00, 3811.61it/s] "
     ]
    },
    {
     "name": "stdout",
     "output_type": "stream",
     "text": [
      "Количество турниров для обучающей выборки: 650\n",
      "Количество турниров для тестовой выборки: 164\n"
     ]
    },
    {
     "name": "stderr",
     "output_type": "stream",
     "text": [
      "\n"
     ]
    }
   ],
   "source": [
    "# Список id турниров для train и test\n",
    "train_ids = []\n",
    "test_ids = []\n",
    "\n",
    "# 2019 в обучение, 2020 на тест\n",
    "train_results = {}\n",
    "test_results = {}\n",
    "\n",
    "for tour_id, tour_data in tqdm(results.items()):\n",
    "    if not tour_data:\n",
    "        continue\n",
    "\n",
    "    train_year_flag = tournaments[tour_id]['dateStart'].startswith('2019')\n",
    "    test_year_flag = tournaments[tour_id]['dateStart'].startswith('2020')\n",
    "\n",
    "    if not (test_year_flag or train_year_flag):\n",
    "        continue\n",
    "\n",
    "    # если в результатах турнира нет ни записей об ответах команд, ни о командах - то пропускаем такой турнир\n",
    "    skip_flag = False\n",
    "    for team_results in tour_data:\n",
    "        if 'mask' in team_results and 'teamMembers' in team_results :\n",
    "            if team_results['mask'] and team_results['teamMembers'] :\n",
    "                continue\n",
    "            else:\n",
    "                skip_flag = True\n",
    "                break\n",
    "        else:\n",
    "            skip_flag = True\n",
    "            break\n",
    "\n",
    "    if skip_flag:\n",
    "        continue\n",
    "\n",
    "    # Оставляем те команды, у которых число ответов равно числу вопросов турнира\n",
    "    max_len_mask = max([len(team['mask']) for team in tour_data])\n",
    "    data = [team for team in tour_data if len(team['mask']) == max_len_mask]\n",
    "\n",
    "    if train_year_flag:\n",
    "        train_ids.append(tour_id)\n",
    "        train_results[tour_id] = data\n",
    "    else:\n",
    "        test_ids.append(tour_id)\n",
    "        test_results[tour_id] = data\n",
    "\n",
    "print('Количество турниров для обучающей выборки:', len(train_results))\n",
    "print('Количество турниров для тестовой выборки:', len(test_results))"
   ],
   "metadata": {
    "collapsed": false,
    "pycharm": {
     "name": "#%%\n"
    }
   }
  },
  {
   "cell_type": "code",
   "execution_count": 5,
   "outputs": [],
   "source": [
    "del results\n",
    "del tournaments"
   ],
   "metadata": {
    "collapsed": false,
    "pycharm": {
     "name": "#%%\n"
    }
   }
  },
  {
   "cell_type": "code",
   "execution_count": 6,
   "outputs": [
    {
     "name": "stderr",
     "output_type": "stream",
     "text": [
      "100%|██████████| 650/650 [01:23<00:00,  7.76it/s]\n",
      "100%|██████████| 164/164 [00:17<00:00,  9.45it/s]\n"
     ]
    }
   ],
   "source": [
    "# функция для замены символов в маске на 0\n",
    "correct_mask = lambda x: x.replace('X', '0').replace('?', '0').replace('-', '0')\n",
    "\n",
    "RESULT = []\n",
    "for tour_id in tqdm(train_results.keys()):\n",
    "    tour_results = train_results[tour_id]\n",
    "    for team_tour_results in tour_results:\n",
    "        mask = correct_mask(team_tour_results['mask'])\n",
    "        team_id = team_tour_results['team']['id']\n",
    "        players_list = [p['player']['id'] for p in team_tour_results['teamMembers']]\n",
    "        position = team_tour_results['position']\n",
    "        for question in range(len(mask)):\n",
    "            question_id = str(tour_id) + f'_{question}'\n",
    "            is_answered = int(mask[question])\n",
    "            for player_id in players_list:\n",
    "                RESULT.append([player_id, team_id, position, tour_id, question_id, is_answered])\n",
    "\n",
    "# В результирующий датасет добавляем информацию по игрокам, командам,\n",
    "# позициям команд, турнирам, вопросам в турнире, и был ли на них ответ\n",
    "players_results_train = pd.DataFrame(RESULT,\n",
    "                                     columns=['player_id', 'team_id', 'position', 'tournament_id', 'question_id',\n",
    "                                              'is_answered'])\n",
    "RESULT = []\n",
    "\n",
    "for tour_id in tqdm(test_results.keys()):\n",
    "    tour_results = test_results[tour_id]\n",
    "    for team_tour_results in tour_results:\n",
    "        mask = correct_mask(team_tour_results['mask'])\n",
    "        team_id = team_tour_results['team']['id']\n",
    "        players_list = [p['player']['id'] for p in team_tour_results['teamMembers']]\n",
    "        position = team_tour_results['position']\n",
    "        for question in range(len(mask)):\n",
    "            question_id = str(tour_id) + f'_{question}'\n",
    "            is_answered = int(mask[question])\n",
    "            for player_id in players_list:\n",
    "                RESULT.append([player_id, team_id, position, tour_id, question_id, is_answered])\n",
    "\n",
    "players_results_test = pd.DataFrame(RESULT,\n",
    "                                    columns=['player_id', 'team_id', 'position', 'tournament_id', 'question_id',\n",
    "                                             'is_answered'])"
   ],
   "metadata": {
    "collapsed": false,
    "pycharm": {
     "name": "#%%\n"
    }
   }
  },
  {
   "cell_type": "code",
   "execution_count": 7,
   "outputs": [
    {
     "data": {
      "text/plain": "         player_id  team_id  position  tournament_id question_id  is_answered\n0            30152    49804       1.0           4957      4957_0            1\n1            30270    49804       1.0           4957      4957_0            1\n2            27822    49804       1.0           4957      4957_0            1\n3            28751    49804       1.0           4957      4957_0            1\n4            27403    49804       1.0           4957      4957_0            1\n...            ...      ...       ...            ...         ...          ...\n3788399     154624    63129       7.0           6456     6456_37            0\n3788400     224329    63129       7.0           6456     6456_37            0\n3788401     165962    63129       7.0           6456     6456_38            1\n3788402     154624    63129       7.0           6456     6456_38            1\n3788403     224329    63129       7.0           6456     6456_38            1\n\n[3788404 rows x 6 columns]",
      "text/html": "<div>\n<style scoped>\n    .dataframe tbody tr th:only-of-type {\n        vertical-align: middle;\n    }\n\n    .dataframe tbody tr th {\n        vertical-align: top;\n    }\n\n    .dataframe thead th {\n        text-align: right;\n    }\n</style>\n<table border=\"1\" class=\"dataframe\">\n  <thead>\n    <tr style=\"text-align: right;\">\n      <th></th>\n      <th>player_id</th>\n      <th>team_id</th>\n      <th>position</th>\n      <th>tournament_id</th>\n      <th>question_id</th>\n      <th>is_answered</th>\n    </tr>\n  </thead>\n  <tbody>\n    <tr>\n      <th>0</th>\n      <td>30152</td>\n      <td>49804</td>\n      <td>1.0</td>\n      <td>4957</td>\n      <td>4957_0</td>\n      <td>1</td>\n    </tr>\n    <tr>\n      <th>1</th>\n      <td>30270</td>\n      <td>49804</td>\n      <td>1.0</td>\n      <td>4957</td>\n      <td>4957_0</td>\n      <td>1</td>\n    </tr>\n    <tr>\n      <th>2</th>\n      <td>27822</td>\n      <td>49804</td>\n      <td>1.0</td>\n      <td>4957</td>\n      <td>4957_0</td>\n      <td>1</td>\n    </tr>\n    <tr>\n      <th>3</th>\n      <td>28751</td>\n      <td>49804</td>\n      <td>1.0</td>\n      <td>4957</td>\n      <td>4957_0</td>\n      <td>1</td>\n    </tr>\n    <tr>\n      <th>4</th>\n      <td>27403</td>\n      <td>49804</td>\n      <td>1.0</td>\n      <td>4957</td>\n      <td>4957_0</td>\n      <td>1</td>\n    </tr>\n    <tr>\n      <th>...</th>\n      <td>...</td>\n      <td>...</td>\n      <td>...</td>\n      <td>...</td>\n      <td>...</td>\n      <td>...</td>\n    </tr>\n    <tr>\n      <th>3788399</th>\n      <td>154624</td>\n      <td>63129</td>\n      <td>7.0</td>\n      <td>6456</td>\n      <td>6456_37</td>\n      <td>0</td>\n    </tr>\n    <tr>\n      <th>3788400</th>\n      <td>224329</td>\n      <td>63129</td>\n      <td>7.0</td>\n      <td>6456</td>\n      <td>6456_37</td>\n      <td>0</td>\n    </tr>\n    <tr>\n      <th>3788401</th>\n      <td>165962</td>\n      <td>63129</td>\n      <td>7.0</td>\n      <td>6456</td>\n      <td>6456_38</td>\n      <td>1</td>\n    </tr>\n    <tr>\n      <th>3788402</th>\n      <td>154624</td>\n      <td>63129</td>\n      <td>7.0</td>\n      <td>6456</td>\n      <td>6456_38</td>\n      <td>1</td>\n    </tr>\n    <tr>\n      <th>3788403</th>\n      <td>224329</td>\n      <td>63129</td>\n      <td>7.0</td>\n      <td>6456</td>\n      <td>6456_38</td>\n      <td>1</td>\n    </tr>\n  </tbody>\n</table>\n<p>3788404 rows × 6 columns</p>\n</div>"
     },
     "execution_count": 7,
     "metadata": {},
     "output_type": "execute_result"
    }
   ],
   "source": [
    "players_results_test"
   ],
   "metadata": {
    "collapsed": false,
    "pycharm": {
     "name": "#%%\n"
    }
   }
  },
  {
   "cell_type": "code",
   "execution_count": 8,
   "outputs": [
    {
     "name": "stdout",
     "output_type": "stream",
     "text": [
      "Количество игроков в обучающем датасете: 53775\n"
     ]
    }
   ],
   "source": [
    "# Подсчет уникальных игроков в обучающем датасете\n",
    "player_ids_train = set()\n",
    "for _, tour_data in train_results.items():\n",
    "    # Цикл по результатам команд в турнире\n",
    "    for result in tour_data:\n",
    "        for player in result['teamMembers']:\n",
    "            player_ids_train.add(player['player']['id'])\n",
    "\n",
    "player_ids_train = list(player_ids_train)\n",
    "num_of_players = len(player_ids_train)\n",
    "\n",
    "print('Количество игроков в обучающем датасете:', num_of_players)"
   ],
   "metadata": {
    "collapsed": false,
    "pycharm": {
     "name": "#%%\n"
    }
   }
  },
  {
   "cell_type": "markdown",
   "source": [
    "Постройте baseline-модель на основе линейной или логистической регрессии, которая будет обучать рейтинг-лист игроков. Замечания и подсказки:\n",
    "- повопросные результаты — это фактически результаты броска монетки, и их предсказание скорее всего имеет отношение к бинарной классификации;\n",
    "- в разных турнирах вопросы совсем разного уровня сложности, поэтому модель должна это учитывать; скорее всего, модель должна будет явно обучать не только силу каждого игрока, но и сложность каждого вопроса;\n",
    "- для baseline-модели можно забыть о командах и считать, что повопросные результаты команды просто относятся к каждому из её игроков.\n"
   ],
   "metadata": {
    "collapsed": false,
    "pycharm": {
     "name": "#%% md\n"
    }
   }
  },
  {
   "cell_type": "markdown",
   "source": [
    "Предположения:\n",
    "- рейтинг игрока - это вероятность его ответить на случайный вопрос\n",
    "- ответ, который дает команда равна, тому - что каждый из ее участников ответил на вопрос\n",
    "\n",
    "Так как необходимо учесть силу каждого игрока, и сложность каждого из вопросов, логично - обучить логистическую регрессию, которая, учитывая факторы сложности вопроса и силу игрока, будет прогнозировать вероятность ответа на случайный вопрос. Таким образом - сила конкретного игрока и сложность конкретного вопроса, будут являтся весами логистической регрессии, полученных во время обучения.\n",
    "\n",
    "Таким образом - в качестве преобразования данных для обучения можно взять OneHotEncoder, где каждый игрок и вопрос будут факторами для модели с своими весами.\n",
    "\n",
    "\n",
    "$P(player_i) = \\sigma(bias + W_{players}*X_{players} + W_{questions}*X_{questions})$ ,\n",
    "где $player_i$ - i-ый игрок,\n",
    "$W_{players}$ / $W_{questions}$ - сила игроков / сложность вопросов,\n",
    "$X_{players}$ / $X_{questions}$ - игроки / вопросы.\n"
   ],
   "metadata": {
    "collapsed": false,
    "pycharm": {
     "name": "#%% md\n"
    }
   }
  },
  {
   "cell_type": "code",
   "execution_count": 9,
   "outputs": [
    {
     "name": "stdout",
     "output_type": "stream",
     "text": [
      "(15222736, 84603)\n"
     ]
    }
   ],
   "source": [
    "# Трансформируем данные для обучения\n",
    "players_encoder = OneHotEncoder()  # энкодер понадобится далее\n",
    "questions_encoder = OneHotEncoder()  # энкодер понадобится далее\\\n",
    "\n",
    "player_dummies = players_encoder.fit_transform(players_results_train['player_id'].values.reshape(-1, 1))\n",
    "question_dummies = questions_encoder.fit_transform(players_results_train['question_id'].values.reshape(-1, 1))\n",
    "\n",
    "# Создаем датасет объединением one-hot представлений игроков и вопросов\n",
    "X = sparse.hstack((player_dummies, question_dummies))\n",
    "print(X.shape)"
   ],
   "metadata": {
    "collapsed": false,
    "pycharm": {
     "name": "#%%\n"
    }
   }
  },
  {
   "cell_type": "code",
   "execution_count": 10,
   "outputs": [
    {
     "name": "stderr",
     "output_type": "stream",
     "text": [
      "/Users/18843024/opt/anaconda3/lib/python3.9/site-packages/sklearn/linear_model/_logistic.py:763: ConvergenceWarning: lbfgs failed to converge (status=1):\n",
      "STOP: TOTAL NO. of ITERATIONS REACHED LIMIT.\n",
      "\n",
      "Increase the number of iterations (max_iter) or scale the data as shown in:\n",
      "    https://scikit-learn.org/stable/modules/preprocessing.html\n",
      "Please also refer to the documentation for alternative solver options:\n",
      "    https://scikit-learn.org/stable/modules/linear_model.html#logistic-regression\n",
      "  n_iter_i = _check_optimize_result(\n"
     ]
    },
    {
     "data": {
      "text/plain": "LogisticRegression(random_state=42)"
     },
     "execution_count": 10,
     "metadata": {},
     "output_type": "execute_result"
    }
   ],
   "source": [
    "#Обучаем регрессию на получение вероятности ответа на вопрос.\n",
    "clf = LogisticRegression(random_state=42)\n",
    "clf.fit(X, players_results_train['is_answered'])"
   ],
   "metadata": {
    "collapsed": false,
    "pycharm": {
     "name": "#%%\n"
    }
   }
  },
  {
   "cell_type": "code",
   "execution_count": 11,
   "outputs": [],
   "source": [
    "# Смещение\n",
    "w0 = clf.intercept_\n",
    "# Обученные веса игроков - силы игроков\n",
    "player_weights = clf.coef_[0, :num_of_players]\n",
    "# Обученные веса вопросов - сложности вопросов\n",
    "question_weights = clf.coef_[0, num_of_players:]"
   ],
   "metadata": {
    "collapsed": false,
    "pycharm": {
     "name": "#%%\n"
    }
   }
  },
  {
   "cell_type": "markdown",
   "source": [
    "Качество рейтинг-системы оценивается качеством предсказаний результатов турниров. Но сами повопросные результаты наши модели предсказывать вряд ли смогут, ведь неизвестно, насколько сложными окажутся вопросы в будущих турнирах; да и не нужны эти предсказания сами по себе. Поэтому:\n",
    "- предложите способ предсказать результаты нового турнира с известными составами, но неизвестными вопросами, в виде ранжирования команд;\n",
    "- в качестве метрики качества на тестовом наборе давайте считать ранговые корреляции Спирмена и Кендалла (их можно взять в пакете scipy) между реальным ранжированием в результатах турнира и предсказанным моделью, усреднённые по тестовому множеству турниров"
   ],
   "metadata": {
    "collapsed": false,
    "pycharm": {
     "name": "#%% md\n"
    }
   }
  },
  {
   "cell_type": "markdown",
   "source": [
    "Результаты турнира будут оцениваться по количеству отвеченных игроками вопросами.\n",
    "Найдем вероятность ответа на случайный вопрос случайным игроком, без учета самого вопроса. Для этого можно взять сигмоиду и коэффиценты сил игроков (априорная вероятность ответа игрока на вопрос), и подставить значения.\n",
    "\n",
    "$P(player_i) = \\sigma(bias + [rating_i = W_{players}^TX_{players}])$ ,\n",
    "где $player_i$ - i-ый игрок, $rating_i$ - рейтинг i-го игрока, $bias$ и $W$ - обучаемые регрессией параметры\n",
    "\n",
    "Также, с учетом предположений стоит учесть, что вероятность ответить на вопрос - это вероятность того, что хотя бы один из игроков команды ответит на него:\n",
    "\n",
    "$P(team)=1-\\prod_{player_i \\in team}(1 - P(player_i))$,\n",
    "\n",
    "где $team$ - команда, где находится i-ый игрок"
   ],
   "metadata": {
    "collapsed": false,
    "pycharm": {
     "name": "#%% md\n"
    }
   }
  },
  {
   "cell_type": "code",
   "execution_count": 12,
   "outputs": [],
   "source": [
    "# Функция для подсчета вероятности ответа на вопрос, с учетом команды\n",
    "def team_proba(team, player_ratings):\n",
    "    result = 1\n",
    "    for player in team:\n",
    "        if player['player']['id'] in player_ratings.index:\n",
    "            p = player_ratings[player['player']['id']]\n",
    "        else:\n",
    "            p = 0\n",
    "        result *= (1 - p)\n",
    "    return 1 - result"
   ],
   "metadata": {
    "collapsed": false,
    "pycharm": {
     "name": "#%%\n"
    }
   }
  },
  {
   "cell_type": "code",
   "execution_count": 13,
   "outputs": [],
   "source": [
    "# Функция для подсчета корреляций\n",
    "\n",
    "def correlation_count(test_results, p_rates):\n",
    "    spearman = 0\n",
    "    kendall = 0\n",
    "\n",
    "    for tour_id in test_results.keys():\n",
    "        # Пропускаем турнир если в результатах нет инфо о позиции команды\n",
    "        if not 'position' in test_results[tour_id][0].keys():\n",
    "            continue\n",
    "        pred = np.zeros(len(test_results[tour_id]))\n",
    "        true = np.zeros(len(test_results[tour_id]))\n",
    "\n",
    "        for ind, result in enumerate(test_results[tour_id]):\n",
    "            true[ind] = result['position']\n",
    "            #Cчитаем по команде целиком\n",
    "            pred[ind] = team_proba(result['teamMembers'], p_rates)\n",
    "\n",
    "        spearman_current = stats.spearmanr(true, pred, nan_policy = 'omit')[0]\n",
    "        kendall_current = stats.kendalltau(true, pred, nan_policy = 'omit')[0]\n",
    "\n",
    "        if not (np.isnan(spearman_current) or np.isnan(kendall_current)):\n",
    "            spearman += spearman_current\n",
    "            kendall += kendall_current\n",
    "\n",
    "    return spearman / len(test_results), kendall / len(test_results)"
   ],
   "metadata": {
    "collapsed": false,
    "pycharm": {
     "name": "#%%\n"
    }
   }
  },
  {
   "cell_type": "code",
   "execution_count": 14,
   "outputs": [],
   "source": [
    "def sigmoid(bias, values):\n",
    "    return 1 / (1 + np.exp(-(bias + values)))\n",
    "\n",
    "players_ratings = pd.Series(np.zeros(num_of_players, dtype=float), index=player_ids_train)\n",
    "# Индексы массива для выборки рейтингов игроков\n",
    "players_ratings_idx = players_ratings.index.values.reshape(-1, 1)\n",
    "idx = np.asarray(players_encoder.transform(players_ratings_idx).argmax(axis=1)).reshape(-1)\n",
    "# Для каждого игрока рассчитаем вероятность без учета самого вопроса\n",
    "players_ratings[players_ratings.index] = sigmoid(w0, player_weights[idx])"
   ],
   "metadata": {
    "collapsed": false,
    "pycharm": {
     "name": "#%%\n"
    }
   }
  },
  {
   "cell_type": "code",
   "execution_count": 15,
   "outputs": [
    {
     "name": "stdout",
     "output_type": "stream",
     "text": [
      "Корреляция Спирмена test: -0.7744811972542103\n",
      "Корреляция Кендалла test: -0.6184442499762459\n"
     ]
    }
   ],
   "source": [
    "spearman_coef, kendall_coef = correlation_count(test_results, players_ratings)\n",
    "\n",
    "print('Корреляция Спирмена test:', spearman_coef)\n",
    "print('Корреляция Кендалла test:', kendall_coef)"
   ],
   "metadata": {
    "collapsed": false,
    "pycharm": {
     "name": "#%%\n"
    }
   }
  },
  {
   "cell_type": "code",
   "execution_count": 16,
   "outputs": [
    {
     "name": "stdout",
     "output_type": "stream",
     "text": [
      "Top 10 players:\n",
      "1. Мельникова Ольга Андреевна: 3.71346547663655\n",
      "2. Семушин Иван Николаевич: 3.623982466445479\n",
      "3. Брутер Александра Владимировна: 3.517658543418804\n",
      "4. Савченков Михаил Владимирович: 3.514537931168285\n",
      "5. Руссо Максим Михайлович: 3.4562933689108286\n",
      "6. Спешков Сергей Леонидович: 3.3010689012035144\n",
      "7. Салихов Максим Юрьевич: 3.299830024487427\n",
      "8. Саксонов Антон Владимирович: 3.2561101863353707\n",
      "9. Михайлов Кирилл Игоревич: 3.2398209305788033\n",
      "10. Юнгер Мария Алексеевна: 3.2230727998523165\n"
     ]
    }
   ],
   "source": [
    "#Выведем топ 10 игроков по версии модели.\n",
    "def weights_idx_2_player_idx(ind):\n",
    "    X = np.zeros((len(ind), num_of_players))\n",
    "    for i in range(len(ind)):\n",
    "        X[i, ind[i]] = 1\n",
    "    return players_encoder.inverse_transform(X).reshape(-1)\n",
    "\n",
    "top10_weight = (-player_weights).argsort()[:10]\n",
    "top10_ids= weights_idx_2_player_idx(top10_weight)\n",
    "\n",
    "print('Top 10 players:')\n",
    "for i in range(len(top10_ids)):\n",
    "    player = players[top10_ids[i]]\n",
    "    weight_id = top10_weight[i]\n",
    "    print(f\"{i + 1}. {player['surname']} {player['name']} {player['patronymic']}: {player_weights[weight_id]}\")"
   ],
   "metadata": {
    "collapsed": false,
    "pycharm": {
     "name": "#%%\n"
    }
   }
  },
  {
   "cell_type": "markdown",
   "source": [
    "P.S. на EM не хватило ни ума, ни времени :("
   ],
   "metadata": {
    "collapsed": false,
    "pycharm": {
     "name": "#%% md\n"
    }
   }
  }
 ],
 "metadata": {
  "kernelspec": {
   "display_name": "Python 3",
   "language": "python",
   "name": "python3"
  },
  "language_info": {
   "codemirror_mode": {
    "name": "ipython",
    "version": 2
   },
   "file_extension": ".py",
   "mimetype": "text/x-python",
   "name": "python",
   "nbconvert_exporter": "python",
   "pygments_lexer": "ipython2",
   "version": "2.7.6"
  }
 },
 "nbformat": 4,
 "nbformat_minor": 0
}